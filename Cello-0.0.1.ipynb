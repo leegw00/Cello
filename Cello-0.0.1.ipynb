{
 "cells": [
  {
   "cell_type": "code",
   "execution_count": 1,
   "id": "959d43c4",
   "metadata": {},
   "outputs": [],
   "source": [
    "import torch\n",
    "import torchtext\n",
    "import pandas as pd\n",
    "\n",
    "# df = pd.read_csv('BindingDB_All_202311.tsv', sep = '\\t', on_bad_lines='skip', low_memory = False)\n",
    "# df[:100]"
   ]
  },
  {
   "cell_type": "code",
   "execution_count": 2,
   "id": "57595089",
   "metadata": {},
   "outputs": [],
   "source": [
    "# data = df[[\"Ligand SMILES\", \"Ki (nM)\", \"IC50 (nM)\", \"BindingDB Target Chain Sequence\"]]\n",
    "# data"
   ]
  },
  {
   "cell_type": "code",
   "execution_count": 3,
   "id": "4fa99fb4",
   "metadata": {},
   "outputs": [],
   "source": [
    "# ki, ic = 0, 0\n",
    "# data_comp = data.isna()\n",
    "# for i in range(1, len(data_comp)):\n",
    "#     if not data_comp.loc[i,\"Ki (nM)\"]:\n",
    "#         ki+=1\n",
    "#     if not data_comp.loc[i,\"IC50 (nM)\"]:\n",
    "#         ic+=1\n",
    "# print(ki, ic)"
   ]
  },
  {
   "cell_type": "code",
   "execution_count": 4,
   "id": "3052828d",
   "metadata": {},
   "outputs": [],
   "source": [
    "# more ic50 data, so train,validate,test on it\n",
    "# index = data[pd.isna(data[ \"IC50 (nM)\"])].index\n",
    "# data.drop(index, inplace=True)\n",
    "# data = data[[\"Ligand SMILES\", \"IC50 (nM)\", \"BindingDB Target Chain Sequence\"]]\n",
    "# data"
   ]
  },
  {
   "cell_type": "code",
   "execution_count": 5,
   "id": "a748bdf2",
   "metadata": {},
   "outputs": [],
   "source": [
    "# import re\n",
    "\n",
    "# def ic_processing(ic50):\n",
    "#     ic50_processed = float(re.sub('[^\\d]','', ic50))\n",
    "#     return ic50_processed\n",
    "\n",
    "# def aa_processing(aa):\n",
    "#     aa_processed = re.sub('[^A-Za-z]', '', aa).upper()\n",
    "#     return aa_processed\n",
    "    \n",
    "# data['BindingDB Target Chain Sequence'] = data['BindingDB Target Chain Sequence'].apply(lambda x: aa_processing(str(x)))\n",
    "# data['IC50 (nM)'] = data['IC50 (nM)'].apply(lambda x: ic_processing(str(x)))"
   ]
  },
  {
   "cell_type": "code",
   "execution_count": 6,
   "id": "3f012a2e",
   "metadata": {},
   "outputs": [],
   "source": [
    "# data"
   ]
  },
  {
   "cell_type": "code",
   "execution_count": 7,
   "id": "286b60a9",
   "metadata": {},
   "outputs": [],
   "source": [
    "# data_bd = data[data['IC50 (nM)'] <= 500]"
   ]
  },
  {
   "cell_type": "code",
   "execution_count": 8,
   "id": "9a3abff0",
   "metadata": {
    "scrolled": true
   },
   "outputs": [
    {
     "data": {
      "text/html": [
       "<div>\n",
       "<style scoped>\n",
       "    .dataframe tbody tr th:only-of-type {\n",
       "        vertical-align: middle;\n",
       "    }\n",
       "\n",
       "    .dataframe tbody tr th {\n",
       "        vertical-align: top;\n",
       "    }\n",
       "\n",
       "    .dataframe thead th {\n",
       "        text-align: right;\n",
       "    }\n",
       "</style>\n",
       "<table border=\"1\" class=\"dataframe\">\n",
       "  <thead>\n",
       "    <tr style=\"text-align: right;\">\n",
       "      <th></th>\n",
       "      <th>Ligand SMILES</th>\n",
       "      <th>IC50 (nM)</th>\n",
       "      <th>BindingDB Target Chain Sequence</th>\n",
       "    </tr>\n",
       "  </thead>\n",
       "  <tbody>\n",
       "    <tr>\n",
       "      <th>0</th>\n",
       "      <td>CC(C)[C@H](NC(C)=O)C(=O)N[C@@H](Cc1ccccc1)[C@@...</td>\n",
       "      <td>85</td>\n",
       "      <td>PQITLWQRPLVTIKIGGQLKEALLDTGADDTVLEEMNLPGRWKPKM...</td>\n",
       "    </tr>\n",
       "    <tr>\n",
       "      <th>1</th>\n",
       "      <td>CC(C)C[C@]1(N=CC([C@@H](Cc2ccccc2)C(N)=O)C1=O)...</td>\n",
       "      <td>10</td>\n",
       "      <td>PQITLWQRPLVTIKIGGQLKEALLDTGADDTVLEEMSLPGRWKPKM...</td>\n",
       "    </tr>\n",
       "    <tr>\n",
       "      <th>2</th>\n",
       "      <td>CC(C)[C@H](NC(=O)c1ccc2ccccc2n1)C(=O)N[C@@H](C...</td>\n",
       "      <td>10</td>\n",
       "      <td>PQFSLWKRPVVTAYIEGQPVEVLLDTGADDSIVAGIELGNNYSPKI...</td>\n",
       "    </tr>\n",
       "    <tr>\n",
       "      <th>3</th>\n",
       "      <td>Cc1cc(NCN2C(=O)c3ccccc3C2=O)c(=O)[nH]c1C</td>\n",
       "      <td>218</td>\n",
       "      <td>PISPIETVPVKLKPGMDGPKVKQWPLTEEKIKALVEICTEMEKEGK...</td>\n",
       "    </tr>\n",
       "    <tr>\n",
       "      <th>4</th>\n",
       "      <td>CC(C)[C@H](NC(=O)[C@@H](C[C@H](O)[C@H](Cc1cccc...</td>\n",
       "      <td>11</td>\n",
       "      <td>PQVTLWQRPLVTIKIGGQLKEALLDTGADDTVLEEMSLPGRWKPKM...</td>\n",
       "    </tr>\n",
       "    <tr>\n",
       "      <th>...</th>\n",
       "      <td>...</td>\n",
       "      <td>...</td>\n",
       "      <td>...</td>\n",
       "    </tr>\n",
       "    <tr>\n",
       "      <th>4737</th>\n",
       "      <td>Cc1c(Br)cc(NC(=O)CS(O)(=O)=O)cc1Br</td>\n",
       "      <td>62</td>\n",
       "      <td>MAEVGSKSVLFVCLGNICRSPIAEAVFRKLVTDEKVSDNWRIDSAA...</td>\n",
       "    </tr>\n",
       "    <tr>\n",
       "      <th>4738</th>\n",
       "      <td>Cc1c(Br)cc(NC(=O)CS(O)(=O)=O)cc1Br</td>\n",
       "      <td>62</td>\n",
       "      <td>MAEVGSKSVLFVCLGNICRSPIAEAVFRKLVTDENVSDNWRIDSAA...</td>\n",
       "    </tr>\n",
       "    <tr>\n",
       "      <th>4739</th>\n",
       "      <td>NCCNS(=O)(=O)c1ccc(cc1)-c1ccc(CSc2nc3CCCc3c(=O...</td>\n",
       "      <td>83</td>\n",
       "      <td>MIRLGAPQTLVLLTLLVAAVLRCQGQDVQEAGSCVQDGQRYNDKDV...</td>\n",
       "    </tr>\n",
       "    <tr>\n",
       "      <th>4740</th>\n",
       "      <td>COC(=O)C[C@H]1[C@@]2(C)[C@H](C[C@@H]3CC(C(C)=C...</td>\n",
       "      <td>240</td>\n",
       "      <td>MAAQQRDCGGAAQLAGPAAEADPLGRFTCPVCLEVYEKPVQVPCGH...</td>\n",
       "    </tr>\n",
       "    <tr>\n",
       "      <th>4741</th>\n",
       "      <td>Nc1nc(Cl)cc(n1)-c1nn(cc1Cc1ccccc1OCCN1CCOCC1)C...</td>\n",
       "      <td>19</td>\n",
       "      <td>MSARRQELQDRAIVKIAAHLPDLIVYGDFSPERPSVKCFDGVLMFV...</td>\n",
       "    </tr>\n",
       "  </tbody>\n",
       "</table>\n",
       "<p>4742 rows × 3 columns</p>\n",
       "</div>"
      ],
      "text/plain": [
       "                                          Ligand SMILES  IC50 (nM)  \\\n",
       "0     CC(C)[C@H](NC(C)=O)C(=O)N[C@@H](Cc1ccccc1)[C@@...         85   \n",
       "1     CC(C)C[C@]1(N=CC([C@@H](Cc2ccccc2)C(N)=O)C1=O)...         10   \n",
       "2     CC(C)[C@H](NC(=O)c1ccc2ccccc2n1)C(=O)N[C@@H](C...         10   \n",
       "3              Cc1cc(NCN2C(=O)c3ccccc3C2=O)c(=O)[nH]c1C        218   \n",
       "4     CC(C)[C@H](NC(=O)[C@@H](C[C@H](O)[C@H](Cc1cccc...         11   \n",
       "...                                                 ...        ...   \n",
       "4737                 Cc1c(Br)cc(NC(=O)CS(O)(=O)=O)cc1Br         62   \n",
       "4738                 Cc1c(Br)cc(NC(=O)CS(O)(=O)=O)cc1Br         62   \n",
       "4739  NCCNS(=O)(=O)c1ccc(cc1)-c1ccc(CSc2nc3CCCc3c(=O...         83   \n",
       "4740  COC(=O)C[C@H]1[C@@]2(C)[C@H](C[C@@H]3CC(C(C)=C...        240   \n",
       "4741  Nc1nc(Cl)cc(n1)-c1nn(cc1Cc1ccccc1OCCN1CCOCC1)C...         19   \n",
       "\n",
       "                        BindingDB Target Chain Sequence  \n",
       "0     PQITLWQRPLVTIKIGGQLKEALLDTGADDTVLEEMNLPGRWKPKM...  \n",
       "1     PQITLWQRPLVTIKIGGQLKEALLDTGADDTVLEEMSLPGRWKPKM...  \n",
       "2     PQFSLWKRPVVTAYIEGQPVEVLLDTGADDSIVAGIELGNNYSPKI...  \n",
       "3     PISPIETVPVKLKPGMDGPKVKQWPLTEEKIKALVEICTEMEKEGK...  \n",
       "4     PQVTLWQRPLVTIKIGGQLKEALLDTGADDTVLEEMSLPGRWKPKM...  \n",
       "...                                                 ...  \n",
       "4737  MAEVGSKSVLFVCLGNICRSPIAEAVFRKLVTDEKVSDNWRIDSAA...  \n",
       "4738  MAEVGSKSVLFVCLGNICRSPIAEAVFRKLVTDENVSDNWRIDSAA...  \n",
       "4739  MIRLGAPQTLVLLTLLVAAVLRCQGQDVQEAGSCVQDGQRYNDKDV...  \n",
       "4740  MAAQQRDCGGAAQLAGPAAEADPLGRFTCPVCLEVYEKPVQVPCGH...  \n",
       "4741  MSARRQELQDRAIVKIAAHLPDLIVYGDFSPERPSVKCFDGVLMFV...  \n",
       "\n",
       "[4742 rows x 3 columns]"
      ]
     },
     "execution_count": 8,
     "metadata": {},
     "output_type": "execute_result"
    }
   ],
   "source": [
    "data_drop = pd.read_csv('data_drop.csv')\n",
    "data_drop"
   ]
  },
  {
   "cell_type": "code",
   "execution_count": 9,
   "id": "705190a0",
   "metadata": {},
   "outputs": [],
   "source": [
    "# data_bd.to_csv('data_bd.csv')"
   ]
  },
  {
   "cell_type": "code",
   "execution_count": 10,
   "id": "bcc0f43f",
   "metadata": {},
   "outputs": [],
   "source": [
    "# data_drop = data_bd.drop_duplicates(subset = [\"BindingDB Target Chain Sequence\"], keep = 'first')\n",
    "# data_drop"
   ]
  },
  {
   "cell_type": "code",
   "execution_count": 11,
   "id": "b6b2da64",
   "metadata": {},
   "outputs": [],
   "source": [
    "# data_drop.to_csv('data_drop.csv')"
   ]
  },
  {
   "cell_type": "code",
   "execution_count": 13,
   "id": "2d086d9f",
   "metadata": {},
   "outputs": [],
   "source": [
    "# train, valid, test dataset split, iterable dataset으로 변환\n",
    "from torch.utils.data.dataset import random_split\n",
    "\n",
    "_train = []\n",
    "for data_list in data_drop.values:\n",
    "  _train.append(data_list)\n",
    "\n",
    "num_train = int(len(_train) * 0.90)\n",
    "num_test = int(len(_train)*0.05)\n",
    "_train, _valid, _test = random_split(_train, [num_train, len(_train) - num_train - num_test, num_test])\n"
   ]
  },
  {
   "cell_type": "code",
   "execution_count": 14,
   "id": "53efb752",
   "metadata": {},
   "outputs": [
    {
     "name": "stderr",
     "output_type": "stream",
     "text": [
      "No normalization for SPS. Feature removed!\n",
      "No normalization for AvgIpc. Feature removed!\n",
      "C:\\Users\\matth\\AppData\\Local\\Programs\\Python\\Python310\\lib\\site-packages\\tqdm\\auto.py:21: TqdmWarning: IProgress not found. Please update jupyter and ipywidgets. See https://ipywidgets.readthedocs.io/en/stable/user_install.html\n",
      "  from .autonotebook import tqdm as notebook_tqdm\n",
      "Skipped loading some PyTorch models, missing a dependency. No module named 'torch_geometric'\n",
      "No module named 'torch_geometric'\n",
      "Skipped loading modules with pytorch-geometric dependency, missing a dependency. No module named 'torch_geometric'\n",
      "Skipped loading modules with pytorch-lightning dependency, missing a dependency. No module named 'pytorch_lightning'\n",
      "Skipped loading some Jax models, missing a dependency. No module named 'jax'\n"
     ]
    }
   ],
   "source": [
    "from torchtext.vocab import vocab\n",
    "from torchtext.data.utils import get_tokenizer\n",
    "from deepchem.feat.smiles_tokenizer import BasicSmilesTokenizer\n",
    "from torchtext.vocab import build_vocab_from_iterator\n",
    "\n",
    "train_iter = iter(_train)\n",
    "valid_iter = iter(_valid)\n",
    "test_iter = iter(_test)\n",
    "\n",
    "tokenize_smiles = BasicSmilesTokenizer()\n",
    "\n",
    "def yield_tokens(file_iter, type = 0):\n",
    "     if type == 0:\n",
    "        for line in file_iter:\n",
    "            smi_token = list(tokenize_smiles.tokenize(str(line[0])))\n",
    "            smi_token.append('<eos>')\n",
    "            smi_token.insert(0, '<sos>')\n",
    "            yield smi_token\n",
    "     else:\n",
    "        for line in file_iter:\n",
    "            aa_token = list(line[2])\n",
    "            aa_token.append('<eos>')\n",
    "            aa_token.insert(0, '<sos>')\n",
    "            yield aa_token\n",
    "            \n",
    "smiles_voc = build_vocab_from_iterator(yield_tokens(train_iter, 0), specials=[\"<unk>\", \"<pad>\", \"<sos>\", \"<eos>\"])\n",
    "train_iter = iter(_train)\n",
    "aa_voc = build_vocab_from_iterator(yield_tokens(train_iter, 1), specials=[\"<unk>\", \"<pad>\", \"<sos>\", \"<eos>\"])\n",
    "smiles_voc.set_default_index(smiles_voc['<unk>'])\n",
    "aa_voc.set_default_index(aa_voc['<unk>'])"
   ]
  },
  {
   "cell_type": "code",
   "execution_count": 15,
   "id": "51f0e21d",
   "metadata": {},
   "outputs": [
    {
     "name": "stdout",
     "output_type": "stream",
     "text": [
      "77\n",
      "29\n"
     ]
    }
   ],
   "source": [
    "print(len(smiles_voc))\n",
    "print(len(aa_voc))"
   ]
  },
  {
   "cell_type": "code",
   "execution_count": 16,
   "id": "1ae358f8",
   "metadata": {},
   "outputs": [],
   "source": [
    "def be(a_list):\n",
    "    a_list.append('<eos>')\n",
    "    a_list.insert(0, '<sos>')\n",
    "    return a_list\n",
    "\n",
    "smiles_pipeline = lambda x: smiles_voc(be(tokenize_smiles.tokenize(str(x))))\n",
    "aa_pipeline = lambda x: aa_voc(be(list(x)))"
   ]
  },
  {
   "cell_type": "code",
   "execution_count": 17,
   "id": "2dfb53b3",
   "metadata": {},
   "outputs": [],
   "source": [
    "from torch.nn.utils.rnn import pad_sequence\n",
    "from torch.utils.data import DataLoader\n",
    "from torch import nn\n",
    "\n",
    "device = torch.device(\"cuda\" if torch.cuda.is_available() else \"cpu\")"
   ]
  },
  {
   "cell_type": "code",
   "execution_count": 32,
   "id": "09860d32",
   "metadata": {},
   "outputs": [],
   "source": [
    "def custom_collate_fn(batch):\n",
    "    aa_list, smiles_list= [], []\n",
    "    for [_smi, _, _aa] in batch:\n",
    "         processed_smi = torch.tensor(smiles_pipeline(_smi), dtype=torch.int64)\n",
    "         smiles_list.append(processed_smi)\n",
    "         processed_aa = torch.tensor(aa_pipeline(_aa), dtype=torch.int64)\n",
    "         aa_list.append(processed_aa)\n",
    "    smiles_list = pad_sequence(smiles_list, padding_value = 1)\n",
    "    aa_list = pad_sequence(aa_list, padding_value = 1)\n",
    "    \n",
    "    return aa_list.to(device), smiles_list.to(device)"
   ]
  },
  {
   "cell_type": "code",
   "execution_count": 33,
   "id": "cb32b762",
   "metadata": {},
   "outputs": [],
   "source": [
    "train_iter = iter(_train)\n",
    "valid_iter = iter(_valid)\n",
    "test_iter = iter(_test)\n",
    "\n",
    "train_dataloader = DataLoader(list(train_iter), batch_size=16,\n",
    "                              shuffle=True, collate_fn=custom_collate_fn)\n",
    "\n",
    "valid_dataloader = DataLoader(list(valid_iter), batch_size=16,\n",
    "                              shuffle=True, collate_fn=custom_collate_fn)\n",
    "\n",
    "test_dataloader = DataLoader(list(test_iter), batch_size=16,\n",
    "                              shuffle=True, collate_fn=custom_collate_fn)"
   ]
  },
  {
   "cell_type": "code",
   "execution_count": 34,
   "id": "85b1aaff",
   "metadata": {},
   "outputs": [],
   "source": [
    "class Encoder(nn.Module):\n",
    "    def __init__(self, input_dim, emb_dim, hid_dim, n_layers, dropout):\n",
    "        super().__init__()\n",
    "\n",
    "        self.hid_dim = hid_dim\n",
    "        self.n_layers = n_layers\n",
    "\n",
    "        self.embedding = nn.Embedding(input_dim, emb_dim)\n",
    "\n",
    "        self.rnn = nn.LSTM(emb_dim, hid_dim, n_layers, dropout = dropout)\n",
    "\n",
    "        self.dropout = nn.Dropout(dropout)\n",
    "\n",
    "    def forward(self, aa):\n",
    "\n",
    "        #aa = [aa len, batch size]\n",
    "\n",
    "        embedded = self.dropout(self.embedding(aa))\n",
    "\n",
    "        #embedded = [aa len, batch size, emb dim]\n",
    "\n",
    "        outputs, (hidden, cell) = self.rnn(embedded)\n",
    "\n",
    "        #outputs = [aa len, batch size, hid dim * n directions]\n",
    "        #hidden = [n layers * n directions, batch size, hid dim]\n",
    "        #cell = [n layers * n directions, batch size, hid dim]\n",
    "\n",
    "        #outputs are always from the top hidden layer\n",
    "\n",
    "        return hidden, cell"
   ]
  },
  {
   "cell_type": "code",
   "execution_count": 35,
   "id": "4458fc61",
   "metadata": {},
   "outputs": [],
   "source": [
    "class Decoder(nn.Module):\n",
    "    def __init__(self, output_dim, emb_dim, hid_dim, n_layers, dropout):\n",
    "        super().__init__()\n",
    "\n",
    "        self.output_dim = output_dim\n",
    "        self.hid_dim = hid_dim\n",
    "        self.n_layers = n_layers\n",
    "\n",
    "        self.embedding = nn.Embedding(output_dim, emb_dim)\n",
    "\n",
    "        self.rnn = nn.LSTM(emb_dim, hid_dim, n_layers, dropout = dropout)\n",
    "\n",
    "        self.fc_out = nn.Linear(hid_dim, output_dim)\n",
    "\n",
    "        self.dropout = nn.Dropout(dropout)\n",
    "\n",
    "    def forward(self, input, hidden, cell):\n",
    "\n",
    "        #input = [batch size]\n",
    "        #hidden = [n layers * n directions, batch size, hid dim]\n",
    "        #cell = [n layers * n directions, batch size, hid dim]\n",
    "\n",
    "        #n directions in the decoder will both always be 1, therefore:\n",
    "        #hidden = [n layers, batch size, hid dim]\n",
    "        #context = [n layers, batch size, hid dim]\n",
    "\n",
    "        input = input.unsqueeze(0)\n",
    "        #input = [1, batch size]\n",
    "\n",
    "        embedded = self.dropout(self.embedding(input))\n",
    "\n",
    "        #embedded = [1, batch size, emb dim]\n",
    "\n",
    "        output, (hidden, cell) = self.rnn(embedded, (hidden, cell))\n",
    "\n",
    "        #output = [seq len, batch size, hid dim * n directions]\n",
    "        #hidden = [n layers * n directions, batch size, hid dim]\n",
    "        #cell = [n layers * n directions, batch size, hid dim]\n",
    "\n",
    "        #seq len and n directions will always be 1 in the decoder, therefore:\n",
    "        #output = [1, batch size, hid dim]\n",
    "        #hidden = [n layers, batch size, hid dim]\n",
    "        #cell = [n layers, batch size, hid dim]\n",
    "\n",
    "        prediction = self.fc_out(output.squeeze(0))\n",
    "\n",
    "        #prediction = [batch size, output dim]\n",
    "\n",
    "        return prediction, hidden, cell"
   ]
  },
  {
   "cell_type": "code",
   "execution_count": 74,
   "id": "a2ccb969",
   "metadata": {},
   "outputs": [],
   "source": [
    "class Seq2Seq(nn.Module):\n",
    "    def __init__(self, encoder, decoder, device):\n",
    "        super().__init__()\n",
    "\n",
    "        self.encoder = encoder\n",
    "        self.decoder = decoder\n",
    "        self.device = device\n",
    "\n",
    "        assert encoder.hid_dim == decoder.hid_dim, \\\n",
    "            \"Hidden dimensions of encoder and decoder must be equal!\"\n",
    "        assert encoder.n_layers == decoder.n_layers, \\\n",
    "            \"Encoder and decoder must have equal number of layers!\"\n",
    "\n",
    "    def forward(self, aa, smi, teacher_forcing_ratio = 0.5):\n",
    "\n",
    "        #aa = [aa len, batch size]\n",
    "        #smi = [smi len, batch size]\n",
    "        #teacher_forcing_ratio is probability to use teacher forcing\n",
    "        #e.g. if teacher_forcing_ratio is 0.75 we use ground-truth inputs 75% of the time\n",
    "        \n",
    "        if smi is None:\n",
    "            smi = torch.zeros((150, aa.shape[1])).fill_(2).long().to(aa.device)\n",
    "            assert teacher_forcing_ratio == 0, \"Must be zero during inference\"\n",
    "            \n",
    "        batch_size = smi.shape[1]\n",
    "        smi_len = smi.shape[0]\n",
    "        smi_vocab_size = self.decoder.output_dim\n",
    "\n",
    "        #tensor to store decoder outputs\n",
    "        outputs = torch.zeros(smi_len, batch_size, smi_vocab_size).to(self.device)\n",
    "\n",
    "        #last hidden state of the encoder is used as the initial hidden state of the decoder\n",
    "        hidden, cell = self.encoder(aa)\n",
    "\n",
    "        #first input to the decoder is the <sos> tokens\n",
    "        input = smi[0,:]\n",
    "\n",
    "        for t in range(1, smi_len): # <sos> token 이미 사용했으므로 1부터 시작\n",
    "\n",
    "            #insert input token embedding, previous hidden and previous cell states\n",
    "            #receive output tensor (predictions) and new hidden and cell states\n",
    "            output, hidden, cell = self.decoder(input, hidden, cell)\n",
    "\n",
    "            #place predictions in a tensor holding predictions for each token\n",
    "            outputs[t] = output\n",
    "\n",
    "            #decide if we are going to use teacher forcing or not\n",
    "            teacher_force = random.random() < teacher_forcing_ratio\n",
    "\n",
    "            #get the highest predicted token from our predictions\n",
    "            top1 = output.argmax(1)\n",
    "\n",
    "            #if teacher forcing, use actual next token as next input\n",
    "            #if not, use predicted token\n",
    "            input = smi[t] if teacher_force else top1\n",
    "\n",
    "        return outputs"
   ]
  },
  {
   "cell_type": "code",
   "execution_count": 37,
   "id": "5b38f389",
   "metadata": {},
   "outputs": [],
   "source": [
    "INPUT_DIM = len(aa_voc)\n",
    "OUTPUT_DIM = len(smiles_voc)\n",
    "ENC_EMB_DIM = 256\n",
    "DEC_EMB_DIM = 256\n",
    "HID_DIM = 512\n",
    "N_LAYERS = 2\n",
    "ENC_DROPOUT = 0.5\n",
    "DEC_DROPOUT = 0.5\n",
    "\n",
    "enc = Encoder(INPUT_DIM, ENC_EMB_DIM, HID_DIM, N_LAYERS, ENC_DROPOUT)\n",
    "dec = Decoder(OUTPUT_DIM, DEC_EMB_DIM, HID_DIM, N_LAYERS, DEC_DROPOUT)\n",
    "\n",
    "model = Seq2Seq(enc, dec, device).to(device)"
   ]
  },
  {
   "cell_type": "code",
   "execution_count": 38,
   "id": "13c9d684",
   "metadata": {},
   "outputs": [
    {
     "data": {
      "text/plain": [
       "Seq2Seq(\n",
       "  (encoder): Encoder(\n",
       "    (embedding): Embedding(29, 256)\n",
       "    (rnn): LSTM(256, 512, num_layers=2, dropout=0.5)\n",
       "    (dropout): Dropout(p=0.5, inplace=False)\n",
       "  )\n",
       "  (decoder): Decoder(\n",
       "    (embedding): Embedding(77, 256)\n",
       "    (rnn): LSTM(256, 512, num_layers=2, dropout=0.5)\n",
       "    (fc_out): Linear(in_features=512, out_features=77, bias=True)\n",
       "    (dropout): Dropout(p=0.5, inplace=False)\n",
       "  )\n",
       ")"
      ]
     },
     "execution_count": 38,
     "metadata": {},
     "output_type": "execute_result"
    }
   ],
   "source": [
    "def init_weights(m):\n",
    "    for name, param in m.named_parameters():\n",
    "        nn.init.uniform_(param.data, -0.08, 0.08)\n",
    "\n",
    "model.apply(init_weights)"
   ]
  },
  {
   "cell_type": "code",
   "execution_count": 39,
   "id": "16c5580b",
   "metadata": {},
   "outputs": [
    {
     "name": "stdout",
     "output_type": "stream",
     "text": [
      "The model has 7,423,053 trainable parameters\n"
     ]
    }
   ],
   "source": [
    "def count_parameters(model):\n",
    "    return sum(p.numel() for p in model.parameters() if p.requires_grad)\n",
    "\n",
    "print(f'The model has {count_parameters(model):,} trainable parameters')"
   ]
  },
  {
   "cell_type": "code",
   "execution_count": 40,
   "id": "003e6067",
   "metadata": {},
   "outputs": [],
   "source": [
    "optimizer = torch.optim.Adam(model.parameters())"
   ]
  },
  {
   "cell_type": "code",
   "execution_count": 41,
   "id": "281ea384",
   "metadata": {},
   "outputs": [],
   "source": [
    "SMI_PAD_IDX = smiles_voc(['<pad>'])\n",
    "criterion = nn.CrossEntropyLoss(ignore_index = SMI_PAD_IDX[0])"
   ]
  },
  {
   "cell_type": "code",
   "execution_count": 42,
   "id": "960d7a31",
   "metadata": {},
   "outputs": [],
   "source": [
    "def train(model, iterator, optimizer, criterion, clip):\n",
    "\n",
    "    model.train()\n",
    "    log_interval = 10\n",
    "    epoch_loss = 0\n",
    "\n",
    "    for i, batch in enumerate(iterator):\n",
    "    \n",
    "        aa = batch[0]\n",
    "        smi = batch[1]\n",
    "        batch_loss = 0\n",
    "\n",
    "        optimizer.zero_grad()\n",
    "\n",
    "        output = model(aa, smi)\n",
    "\n",
    "        #smi = [smi len, batch size]\n",
    "        #output = [smi len, batch size, output dim]\n",
    "\n",
    "        output_dim = output.shape[-1]\n",
    "\n",
    "        output = output[1:].view(-1, output_dim)\n",
    "        smi = smi[1:].view(-1)\n",
    "\n",
    "        #smi = [(smi len - 1) * batch size]\n",
    "        #output = [(smi len - 1) * batch size, output dim]\n",
    "\n",
    "        loss = criterion(output, smi)\n",
    "\n",
    "        loss.backward()\n",
    "\n",
    "        torch.nn.utils.clip_grad_norm_(model.parameters(), clip)\n",
    "\n",
    "        optimizer.step()\n",
    "\n",
    "        epoch_loss += loss.item()\n",
    "        batch_loss += loss.item()\n",
    "        \n",
    "        if i % log_interval == 0 and i > 0:\n",
    "            elapsed = time.time() - start_time\n",
    "            print('| epoch {:3d} | {:5d}/{:5d} batches '\n",
    "                  '| loss {:8.2f}'.format(epoch+1, i, len(iterator),\n",
    "                                           batch_loss))\n",
    "\n",
    "    return epoch_loss / len(iterator)"
   ]
  },
  {
   "cell_type": "code",
   "execution_count": 43,
   "id": "48daac2c",
   "metadata": {},
   "outputs": [],
   "source": [
    "def evaluate(model, iterator, criterion):\n",
    "\n",
    "    model.eval()\n",
    "\n",
    "    epoch_loss = 0\n",
    "\n",
    "    with torch.no_grad():\n",
    "\n",
    "        for i, batch in enumerate(iterator):\n",
    "\n",
    "            aa = batch[0]\n",
    "            smi = batch[1]\n",
    "\n",
    "            output = model(aa, smi, 0) #turn off teacher forcing\n",
    "\n",
    "            #smi = [smi len, batch size]\n",
    "            #output = [smi len, batch size, output dim]\n",
    "\n",
    "            output_dim = output.shape[-1]\n",
    "\n",
    "            output = output[1:].view(-1, output_dim)\n",
    "            smi = smi[1:].view(-1)\n",
    "\n",
    "            #smi = [(smi len - 1) * batch size]\n",
    "            #output = [(smi len - 1) * batch size, output dim]\n",
    "\n",
    "            loss = criterion(output, smi)\n",
    "\n",
    "            epoch_loss += loss.item()\n",
    "\n",
    "    return epoch_loss / len(iterator)"
   ]
  },
  {
   "cell_type": "code",
   "execution_count": 44,
   "id": "f9ac6780",
   "metadata": {},
   "outputs": [],
   "source": [
    "def epoch_time(start_time, end_time):\n",
    "    elapsed_time = end_time - start_time\n",
    "    elapsed_mins = int(elapsed_time / 60)\n",
    "    elapsed_secs = int(elapsed_time - (elapsed_mins * 60))\n",
    "    return elapsed_mins, elapsed_secs"
   ]
  },
  {
   "cell_type": "code",
   "execution_count": null,
   "id": "8fcfdbc8",
   "metadata": {},
   "outputs": [],
   "source": []
  },
  {
   "cell_type": "code",
   "execution_count": 45,
   "id": "c6667d03",
   "metadata": {},
   "outputs": [
    {
     "name": "stdout",
     "output_type": "stream",
     "text": [
      "| epoch   1 |    10/  267 batches | loss     2.53\n",
      "| epoch   1 |    20/  267 batches | loss     2.48\n",
      "| epoch   1 |    30/  267 batches | loss     2.53\n",
      "| epoch   1 |    40/  267 batches | loss     2.48\n",
      "| epoch   1 |    50/  267 batches | loss     2.38\n",
      "| epoch   1 |    60/  267 batches | loss     2.36\n",
      "| epoch   1 |    70/  267 batches | loss     2.20\n",
      "| epoch   1 |    80/  267 batches | loss     2.38\n",
      "| epoch   1 |    90/  267 batches | loss     2.13\n",
      "| epoch   1 |   100/  267 batches | loss     2.05\n",
      "| epoch   1 |   110/  267 batches | loss     2.20\n",
      "| epoch   1 |   120/  267 batches | loss     2.24\n",
      "| epoch   1 |   130/  267 batches | loss     2.08\n",
      "| epoch   1 |   140/  267 batches | loss     2.16\n",
      "| epoch   1 |   150/  267 batches | loss     1.93\n",
      "| epoch   1 |   160/  267 batches | loss     2.22\n",
      "| epoch   1 |   170/  267 batches | loss     2.21\n",
      "| epoch   1 |   180/  267 batches | loss     1.95\n",
      "| epoch   1 |   190/  267 batches | loss     1.94\n",
      "| epoch   1 |   200/  267 batches | loss     1.91\n",
      "| epoch   1 |   210/  267 batches | loss     1.84\n",
      "| epoch   1 |   220/  267 batches | loss     2.26\n",
      "| epoch   1 |   230/  267 batches | loss     2.14\n",
      "| epoch   1 |   240/  267 batches | loss     1.97\n",
      "| epoch   1 |   250/  267 batches | loss     2.03\n",
      "| epoch   1 |   260/  267 batches | loss     1.84\n",
      "Epoch: 01 | Time: 42m 58s\n",
      "\tTrain Loss: 2.204 | Train PPL:   9.062\n",
      "\t Val. Loss: 2.813 |  Val. PPL:  16.663\n",
      "| epoch   2 |    10/  267 batches | loss     1.96\n",
      "| epoch   2 |    20/  267 batches | loss     1.82\n",
      "| epoch   2 |    30/  267 batches | loss     2.02\n",
      "| epoch   2 |    40/  267 batches | loss     1.89\n",
      "| epoch   2 |    50/  267 batches | loss     1.82\n",
      "| epoch   2 |    60/  267 batches | loss     1.90\n",
      "| epoch   2 |    70/  267 batches | loss     1.97\n",
      "| epoch   2 |    80/  267 batches | loss     1.78\n",
      "| epoch   2 |    90/  267 batches | loss     1.88\n",
      "| epoch   2 |   100/  267 batches | loss     1.63\n",
      "| epoch   2 |   110/  267 batches | loss     1.91\n",
      "| epoch   2 |   120/  267 batches | loss     2.12\n",
      "| epoch   2 |   130/  267 batches | loss     1.97\n",
      "| epoch   2 |   140/  267 batches | loss     1.95\n",
      "| epoch   2 |   150/  267 batches | loss     1.78\n",
      "| epoch   2 |   160/  267 batches | loss     2.02\n",
      "| epoch   2 |   170/  267 batches | loss     1.67\n",
      "| epoch   2 |   180/  267 batches | loss     2.05\n",
      "| epoch   2 |   190/  267 batches | loss     2.16\n",
      "| epoch   2 |   200/  267 batches | loss     1.98\n",
      "| epoch   2 |   210/  267 batches | loss     1.82\n",
      "| epoch   2 |   220/  267 batches | loss     2.00\n",
      "| epoch   2 |   230/  267 batches | loss     1.82\n",
      "| epoch   2 |   240/  267 batches | loss     1.94\n",
      "| epoch   2 |   250/  267 batches | loss     1.76\n",
      "| epoch   2 |   260/  267 batches | loss     2.03\n",
      "Epoch: 02 | Time: 28m 42s\n",
      "\tTrain Loss: 1.903 | Train PPL:   6.706\n",
      "\t Val. Loss: 2.745 |  Val. PPL:  15.565\n",
      "| epoch   3 |    10/  267 batches | loss     1.74\n",
      "| epoch   3 |    20/  267 batches | loss     1.88\n",
      "| epoch   3 |    30/  267 batches | loss     2.00\n",
      "| epoch   3 |    40/  267 batches | loss     1.72\n",
      "| epoch   3 |    50/  267 batches | loss     2.06\n",
      "| epoch   3 |    60/  267 batches | loss     1.91\n",
      "| epoch   3 |    70/  267 batches | loss     1.84\n",
      "| epoch   3 |    80/  267 batches | loss     1.65\n",
      "| epoch   3 |    90/  267 batches | loss     1.62\n",
      "| epoch   3 |   100/  267 batches | loss     1.88\n",
      "| epoch   3 |   110/  267 batches | loss     1.80\n",
      "| epoch   3 |   120/  267 batches | loss     1.78\n",
      "| epoch   3 |   130/  267 batches | loss     1.76\n",
      "| epoch   3 |   140/  267 batches | loss     1.51\n",
      "| epoch   3 |   150/  267 batches | loss     2.03\n",
      "| epoch   3 |   160/  267 batches | loss     2.02\n",
      "| epoch   3 |   170/  267 batches | loss     1.77\n",
      "| epoch   3 |   180/  267 batches | loss     1.64\n",
      "| epoch   3 |   190/  267 batches | loss     1.95\n",
      "| epoch   3 |   200/  267 batches | loss     1.74\n",
      "| epoch   3 |   210/  267 batches | loss     1.47\n",
      "| epoch   3 |   220/  267 batches | loss     1.79\n",
      "| epoch   3 |   230/  267 batches | loss     1.71\n",
      "| epoch   3 |   240/  267 batches | loss     2.01\n",
      "| epoch   3 |   250/  267 batches | loss     1.82\n",
      "| epoch   3 |   260/  267 batches | loss     1.77\n",
      "Epoch: 03 | Time: 22m 59s\n",
      "\tTrain Loss: 1.807 | Train PPL:   6.092\n",
      "\t Val. Loss: 2.797 |  Val. PPL:  16.401\n",
      "| epoch   4 |    10/  267 batches | loss     1.79\n",
      "| epoch   4 |    20/  267 batches | loss     1.71\n",
      "| epoch   4 |    30/  267 batches | loss     1.55\n",
      "| epoch   4 |    40/  267 batches | loss     1.80\n",
      "| epoch   4 |    50/  267 batches | loss     1.54\n",
      "| epoch   4 |    60/  267 batches | loss     1.47\n",
      "| epoch   4 |    70/  267 batches | loss     2.07\n",
      "| epoch   4 |    80/  267 batches | loss     1.79\n",
      "| epoch   4 |    90/  267 batches | loss     1.90\n",
      "| epoch   4 |   100/  267 batches | loss     1.82\n",
      "| epoch   4 |   110/  267 batches | loss     1.78\n",
      "| epoch   4 |   120/  267 batches | loss     1.71\n",
      "| epoch   4 |   130/  267 batches | loss     1.66\n",
      "| epoch   4 |   140/  267 batches | loss     1.86\n",
      "| epoch   4 |   150/  267 batches | loss     1.53\n",
      "| epoch   4 |   160/  267 batches | loss     1.75\n",
      "| epoch   4 |   170/  267 batches | loss     1.93\n",
      "| epoch   4 |   180/  267 batches | loss     1.39\n",
      "| epoch   4 |   190/  267 batches | loss     1.88\n",
      "| epoch   4 |   200/  267 batches | loss     1.77\n",
      "| epoch   4 |   210/  267 batches | loss     1.89\n",
      "| epoch   4 |   220/  267 batches | loss     1.79\n",
      "| epoch   4 |   230/  267 batches | loss     1.76\n",
      "| epoch   4 |   240/  267 batches | loss     1.61\n",
      "| epoch   4 |   250/  267 batches | loss     1.47\n",
      "| epoch   4 |   260/  267 batches | loss     1.60\n",
      "Epoch: 04 | Time: 21m 24s\n",
      "\tTrain Loss: 1.752 | Train PPL:   5.765\n",
      "\t Val. Loss: 2.697 |  Val. PPL:  14.831\n",
      "| epoch   5 |    10/  267 batches | loss     1.79\n",
      "| epoch   5 |    20/  267 batches | loss     1.59\n",
      "| epoch   5 |    30/  267 batches | loss     1.81\n",
      "| epoch   5 |    40/  267 batches | loss     1.60\n",
      "| epoch   5 |    50/  267 batches | loss     1.79\n",
      "| epoch   5 |    60/  267 batches | loss     1.57\n",
      "| epoch   5 |    70/  267 batches | loss     1.86\n",
      "| epoch   5 |    80/  267 batches | loss     1.57\n",
      "| epoch   5 |    90/  267 batches | loss     1.84\n",
      "| epoch   5 |   100/  267 batches | loss     1.74\n",
      "| epoch   5 |   110/  267 batches | loss     1.68\n",
      "| epoch   5 |   120/  267 batches | loss     1.80\n",
      "| epoch   5 |   130/  267 batches | loss     1.85\n",
      "| epoch   5 |   140/  267 batches | loss     1.66\n",
      "| epoch   5 |   150/  267 batches | loss     1.44\n",
      "| epoch   5 |   160/  267 batches | loss     1.84\n",
      "| epoch   5 |   170/  267 batches | loss     1.87\n",
      "| epoch   5 |   180/  267 batches | loss     1.87\n",
      "| epoch   5 |   190/  267 batches | loss     1.87\n",
      "| epoch   5 |   200/  267 batches | loss     1.80\n",
      "| epoch   5 |   210/  267 batches | loss     1.60\n",
      "| epoch   5 |   220/  267 batches | loss     1.40\n",
      "| epoch   5 |   230/  267 batches | loss     1.83\n",
      "| epoch   5 |   240/  267 batches | loss     1.74\n",
      "| epoch   5 |   250/  267 batches | loss     1.81\n",
      "| epoch   5 |   260/  267 batches | loss     1.65\n",
      "Epoch: 05 | Time: 20m 42s\n",
      "\tTrain Loss: 1.702 | Train PPL:   5.484\n",
      "\t Val. Loss: 2.810 |  Val. PPL:  16.611\n",
      "| epoch   6 |    10/  267 batches | loss     1.74\n",
      "| epoch   6 |    20/  267 batches | loss     1.97\n",
      "| epoch   6 |    30/  267 batches | loss     1.31\n",
      "| epoch   6 |    40/  267 batches | loss     1.74\n",
      "| epoch   6 |    50/  267 batches | loss     1.57\n",
      "| epoch   6 |    60/  267 batches | loss     1.81\n",
      "| epoch   6 |    70/  267 batches | loss     1.68\n",
      "| epoch   6 |    80/  267 batches | loss     1.87\n",
      "| epoch   6 |    90/  267 batches | loss     1.84\n",
      "| epoch   6 |   100/  267 batches | loss     1.64\n",
      "| epoch   6 |   110/  267 batches | loss     1.54\n",
      "| epoch   6 |   120/  267 batches | loss     1.63\n",
      "| epoch   6 |   130/  267 batches | loss     1.79\n",
      "| epoch   6 |   140/  267 batches | loss     1.60\n",
      "| epoch   6 |   150/  267 batches | loss     1.44\n",
      "| epoch   6 |   160/  267 batches | loss     1.67\n",
      "| epoch   6 |   170/  267 batches | loss     1.85\n",
      "| epoch   6 |   180/  267 batches | loss     1.63\n",
      "| epoch   6 |   190/  267 batches | loss     1.87\n",
      "| epoch   6 |   200/  267 batches | loss     1.65\n",
      "| epoch   6 |   210/  267 batches | loss     1.35\n",
      "| epoch   6 |   220/  267 batches | loss     1.39\n",
      "| epoch   6 |   230/  267 batches | loss     1.45\n",
      "| epoch   6 |   240/  267 batches | loss     1.73\n"
     ]
    },
    {
     "name": "stdout",
     "output_type": "stream",
     "text": [
      "| epoch   6 |   250/  267 batches | loss     1.33\n",
      "| epoch   6 |   260/  267 batches | loss     1.96\n",
      "Epoch: 06 | Time: 20m 12s\n",
      "\tTrain Loss: 1.664 | Train PPL:   5.280\n",
      "\t Val. Loss: 3.660 |  Val. PPL:  38.860\n"
     ]
    }
   ],
   "source": [
    "import time\n",
    "import random\n",
    "import math\n",
    "\n",
    "N_EPOCHS = 6\n",
    "CLIP = 1\n",
    "\n",
    "best_valid_loss = float('inf')\n",
    "\n",
    "for epoch in range(N_EPOCHS):\n",
    "\n",
    "    start_time = time.time()\n",
    "\n",
    "    train_loss = train(model, train_dataloader, optimizer, criterion, CLIP)\n",
    "    valid_loss = evaluate(model, valid_dataloader, criterion)\n",
    "\n",
    "    end_time = time.time()\n",
    "\n",
    "    epoch_mins, epoch_secs = epoch_time(start_time, end_time)\n",
    "\n",
    "    if valid_loss < best_valid_loss:\n",
    "        best_valid_loss = valid_loss\n",
    "        torch.save(model.state_dict(), 'cello-model.pt')\n",
    "\n",
    "    print(f'Epoch: {epoch+1:02} | Time: {epoch_mins}m {epoch_secs}s')\n",
    "    print(f'\\tTrain Loss: {train_loss:.3f} | Train PPL: {math.exp(train_loss):7.3f}')\n",
    "    print(f'\\t Val. Loss: {valid_loss:.3f} |  Val. PPL: {math.exp(valid_loss):7.3f}')"
   ]
  },
  {
   "cell_type": "code",
   "execution_count": null,
   "id": "222cb258",
   "metadata": {},
   "outputs": [],
   "source": []
  },
  {
   "cell_type": "code",
   "execution_count": 75,
   "id": "f1afca3d",
   "metadata": {},
   "outputs": [
    {
     "data": {
      "text/plain": [
       "Seq2Seq(\n",
       "  (encoder): Encoder(\n",
       "    (embedding): Embedding(29, 256)\n",
       "    (rnn): LSTM(256, 512, num_layers=2, dropout=0.5)\n",
       "    (dropout): Dropout(p=0.5, inplace=False)\n",
       "  )\n",
       "  (decoder): Decoder(\n",
       "    (embedding): Embedding(77, 256)\n",
       "    (rnn): LSTM(256, 512, num_layers=2, dropout=0.5)\n",
       "    (fc_out): Linear(in_features=512, out_features=77, bias=True)\n",
       "    (dropout): Dropout(p=0.5, inplace=False)\n",
       "  )\n",
       ")"
      ]
     },
     "execution_count": 75,
     "metadata": {},
     "output_type": "execute_result"
    }
   ],
   "source": [
    "INPUT_DIM = len(aa_voc)\n",
    "OUTPUT_DIM = len(smiles_voc)\n",
    "ENC_EMB_DIM = 256\n",
    "DEC_EMB_DIM = 256\n",
    "HID_DIM = 512\n",
    "N_LAYERS = 2\n",
    "ENC_DROPOUT = 0.5\n",
    "DEC_DROPOUT = 0.5\n",
    "\n",
    "enc = Encoder(INPUT_DIM, ENC_EMB_DIM, HID_DIM, N_LAYERS, ENC_DROPOUT)\n",
    "dec = Decoder(OUTPUT_DIM, DEC_EMB_DIM, HID_DIM, N_LAYERS, DEC_DROPOUT)\n",
    "\n",
    "SMI_PAD_IDX = smiles_voc(['<pad>'])\n",
    "criterion = nn.CrossEntropyLoss(ignore_index = SMI_PAD_IDX[0])\n",
    "\n",
    "model = Seq2Seq(enc, dec, device).to(device)\n",
    "model.load_state_dict(torch.load('cello-model.pt'))\n",
    "model.eval()"
   ]
  },
  {
   "cell_type": "code",
   "execution_count": 64,
   "id": "6b557c56",
   "metadata": {},
   "outputs": [
    {
     "name": "stdout",
     "output_type": "stream",
     "text": [
      "\tTest Loss: 2.733 | Test PPL:  15.372\n"
     ]
    }
   ],
   "source": [
    "EPOCHS = 1\n",
    "\n",
    "for epoch in range(EPOCHS):\n",
    "    test_loss = evaluate(model, test_dataloader, criterion)\n",
    "    end_time = time.time()\n",
    "    print(f'\\tTest Loss: {test_loss:.3f} | Test PPL: {math.exp(test_loss):7.3f}')"
   ]
  },
  {
   "cell_type": "code",
   "execution_count": 51,
   "id": "270dd0f2",
   "metadata": {},
   "outputs": [
    {
     "data": {
      "text/plain": [
       "array(['Cc1ncsc1-c1ccc(CNC(=O)[C@@H]2C[C@@H](O)CN2C(=O)[C@@H](NC(=O)COCCOCCOCCN2CCN(Cc3ccc(cc3)-c3cc4c(NCc5ccccc5Cl)ncnc4[nH]3)CC2)C(C)(C)C)cc1',\n",
       "       210,\n",
       "       'MRPSGTAGAALLALLAALPASRALEEKKVCQGTSNKLTQLGTFEDHFLSLQRMFNNCEVVLGNLEITYVQRNYDLSFLKTIQEVAGYVLIALNTVERIPLENLQIIRGNMYYENSYALAVLSNYDANKTGLKELPMRNLQEILHGAVRFSNNPALCNVESIQWRDIVSSDFLSNMSMDFQNHLGSCQKCDPSCPNGSCWGAGEENCQKLTKIICAQQCSGRCRGKSPSDCCHNQCAAGCTGPRESDCLVCRKFRDEATCKDTCPPLMLYNPTTYQMDVNPEGKYSFGATCVKKCPRNYVVTDHGSCVRACGADSYEMEEDGVRKCKKCEGPCRKVCNGIGIGEFKDSLSINATNIKHFKNCTSISGDLHILPVAFRGDSFTHTPPLDPQELDILKTVKEITGFLLIQAWPENRTDLHAFENLEIIRGRTKQHGQFSLAVVSLNITSLGLRSLKEISDGDVIISGNKNLCYANTINWKKLFGTSGQKTKIISNRGENSCKATGQVCHALCSPEGCWGPEPRDCVSCRNVSRGRECVDKCNLLEGEPREFVENSECIQCHPECLPQAMNITCTGRGPDNCIQCAHYIDGPHCVKTCPAGVMGENNTLVWKYADAGHVCHLCHPNCTYGCTGPGLEGCPTNGPKIPSIATGMVGALLLLLVVALGIGLFMRRRHIVRKRTLRRLLQERELVEPLTPSGEAPNQALLRILKETEFKKIKVLGSGAFGTVYKGLWIPEGEKVKIPVAIKLRETSPKANKEILDEAYVMASVDNPHVCRLLGICLTSTVQLITQLMPFGCLLDYVREHKDNIGSQYLLNWCVQIAKGMNYLEDRRLVHRDLAARNVLVKTPQHVKITDFGLAKLLGAEEKEYHAEGGKVPIKWMALESILHRIYTHQSDVWSYGVTVWELMTFGSKPYDGIPASEISSILEKGERLPQPPICTIDVYMIMVKCWMIDADSRPKFRELIIEFSKMARDPQRYLVIQGDERMHLPSPTDSNFYRALMDEEDMDDVVDADEYLIPQQGFFSSPSTSRTPLLSSLSATSNNSTVACIDRNGLQSCPIKEDSFLQRYSSDPTGALTEDSIDDTFLPVPEYINQSVPKRPAGSVQNPVYHNQPLNPAPSRDPHYQDPHSTAVGNPEYLNTVQPTCVNSTFDSPAHWAQKGSHQISLDNPDYQQDFFPKEAKPNGIFKGSTAENAEYLRVAPQSSEFIGA'],\n",
       "      dtype=object)"
      ]
     },
     "execution_count": 51,
     "metadata": {},
     "output_type": "execute_result"
    }
   ],
   "source": [
    "_train[0]"
   ]
  },
  {
   "cell_type": "code",
   "execution_count": 85,
   "id": "11073d21",
   "metadata": {},
   "outputs": [],
   "source": [
    "def generate_inhibitor(aa_seq):\n",
    "    tokenized = tokenize_smiles.tokenize(aa_seq) #tokenize sentence\n",
    "    tokenized = be(list(tokenized))\n",
    "    numericalized = aa_voc.lookup_indices(tokenized) #convert tokens into indexes\n",
    "    print(numericalized)\n",
    "    tensor = torch.LongTensor(numericalized).unsqueeze(1).to(device) #convert to tensor and add batch dimension\n",
    "    smiles_tensor_probs = model(tensor, None, 0).squeeze(1) #pass through model to get translation probabilities\n",
    "    print(smiles_tensor_probs)\n",
    "    smiles_tensor = torch.argmax(smiles_tensor_probs, 1) #get translation from highest probabilities\n",
    "    smiles = smiles_voc.lookup_tokens(list(smiles_tensor))[1:] #we ignore the first token, just like we do in the training loop\n",
    "    return ''.join(smiles)"
   ]
  },
  {
   "cell_type": "code",
   "execution_count": 87,
   "id": "e49e3419",
   "metadata": {},
   "outputs": [
    {
     "name": "stdout",
     "output_type": "stream",
     "text": [
      "Amino acid sequence: MRDTRFPCLCGIAASTLLFATTPAIADEAPADRLKALVDAAVQPVMKANDIPGLAVAISLKGEPHYFSYGLASKEDGRRVTPETLFEIGSVSKTFTVTLAGYALAQDKMRLDDRASQHWPALQGSRFDGISLLDLATYTAGGLPLQFPDSVQKDQAQIRDYYRQWQPTYAPGSQRLYSNPSIGLFGYLAARSLGQPFERLMEQQLFPALGLEQTHLDVPEAALAQYAQGYGKDDRPLRVGPGPLDAEGYGVKTSAADLLRFVDANLHPERLDRPWAQALDATHRGYYKVGDMTQGLGWEAYDWPISLKRLQAGNSTPMALQPHRIARLPAPQALEGQRLLNKTGSTNGFGAYVAFVPGRDLGLVILANRNYPNAERVKIAYAILSGLEQQAKVPLKR\n",
      "Inhibitor: OS(=O)(=O)ON1[C@H]2CN([C@H](CC2)C(=O)NC2CCCNC2)C1=O\n"
     ]
    }
   ],
   "source": [
    "candidate = _train[8][2]\n",
    "candidate_inhibitor = _train[8][0]\n",
    "\n",
    "print(f'Amino acid sequence: {candidate}')\n",
    "print(f'Inhibitor: {candidate_inhibitor}')"
   ]
  },
  {
   "cell_type": "code",
   "execution_count": 88,
   "id": "8a0d0417",
   "metadata": {},
   "outputs": [
    {
     "name": "stdout",
     "output_type": "stream",
     "text": [
      "[2, 16, 11, 22, 22, 14, 5, 16, 11, 14, 11, 11, 17, 14, 11, 14, 5, 11, 16, 5, 5, 11, 16, 14, 5, 5, 16, 5, 11, 5, 16, 14, 5, 11, 16, 11, 5, 14, 11, 11, 5, 5, 17, 11, 5, 14, 16, 5, 11, 16, 16, 11, 11, 11, 11, 11, 5, 16, 17, 11, 11, 11, 14, 5, 17, 5, 11, 11, 14, 11, 11, 17, 5, 17, 16, 16, 11, 14, 17, 17, 11, 17, 14, 14, 5, 11, 3]\n",
      "tensor([[ 0.0000,  0.0000,  0.0000,  ...,  0.0000,  0.0000,  0.0000],\n",
      "        [-4.9521, -4.4609, -5.3924,  ..., -4.5506, -4.2073, -3.9494],\n",
      "        [-6.0279, -6.2610, -6.3815,  ..., -5.5365, -5.9922, -5.3801],\n",
      "        ...,\n",
      "        [-6.0936, -6.1561, -6.0791,  ..., -5.9719, -6.1138, -5.6587],\n",
      "        [-6.0937, -6.1561, -6.0793,  ..., -5.9720, -6.1140, -5.6587],\n",
      "        [-6.0938, -6.1561, -6.0794,  ..., -5.9721, -6.1141, -5.6587]],\n",
      "       grad_fn=<SqueezeBackward1>)\n"
     ]
    },
    {
     "data": {
      "text/plain": [
       "'CC(C)CCCCCCCCCCCCCCCCCCCCCCCCCCCCCCCCCCCCCCCCCCCCCCCCCCCCCCCCCCCCCCCCCCCCCCCCCCCCCCCCCCCCCCCCCCCCCCCCCCCCCCCCCCCCCCCCCCCCCCCCCCCCCCCCCCCCCCCCCCCCCCCC'"
      ]
     },
     "execution_count": 88,
     "metadata": {},
     "output_type": "execute_result"
    }
   ],
   "source": [
    "generate_inhibitor(candidate)"
   ]
  },
  {
   "cell_type": "code",
   "execution_count": 90,
   "id": "1eabe76c",
   "metadata": {},
   "outputs": [
    {
     "name": "stdout",
     "output_type": "stream",
     "text": [
      "[2, 14, 5, 11, 3]\n",
      "tensor([[ 0.0000,  0.0000,  0.0000,  ...,  0.0000,  0.0000,  0.0000],\n",
      "        [-4.8542, -4.4335, -5.3823,  ..., -4.5392, -4.0643, -3.9426],\n",
      "        [-6.0422, -6.0604, -6.3918,  ..., -5.5688, -5.8116, -5.3007],\n",
      "        ...,\n",
      "        [-5.7102, -6.2847, -6.0608,  ..., -5.8109, -4.4862, -5.1523],\n",
      "        [-6.2263, -6.3437, -6.3282,  ..., -5.3459, -5.0593, -6.3578],\n",
      "        [-6.9668, -6.5130, -6.6230,  ..., -6.2314, -7.0949, -6.5225]],\n",
      "       grad_fn=<SqueezeBackward1>)\n"
     ]
    },
    {
     "data": {
      "text/plain": [
       "'CC(C)CC)C(=O)N[C@@H](CCCNC(N)=N)C(=O)N[C@@H](CCCNC(N)=N)NC(=O)[C@H](CCCNC(N)=N)NC(=O)[C@H](CCCNC(N)=N)NC(=O)[C@H](CCCNC(N)=N)NC(=O)[C@H](CCCNC(N)=N)NC(=O)[C@H](CCCNC(N)=N)NC(=O)[C@H]('"
      ]
     },
     "execution_count": 90,
     "metadata": {},
     "output_type": "execute_result"
    }
   ],
   "source": [
    "generate_inhibitor('EDQIDSPR')"
   ]
  },
  {
   "cell_type": "code",
   "execution_count": null,
   "id": "01b9e1a5",
   "metadata": {},
   "outputs": [],
   "source": []
  },
  {
   "cell_type": "code",
   "execution_count": 93,
   "id": "ef1e61f1",
   "metadata": {},
   "outputs": [
    {
     "name": "stdout",
     "output_type": "stream",
     "text": [
      "Amino acid sequence: MGSKRGISSRHHSLSSYEIMFAALFAILVVLCAGLIAVSCLTIKESQRGAALGQSHEARATFKITSGVTYNPNLQDKLSVDFKVLAFDLQQMIDEIFLSSNLKNEYKNSRVLQFENGSIIVVFDLFFAQWVSDENVKEELIQGLEANKSSQLVTFHIDLNSVDILDKLTTTSHLATPGNVSIECLPGSSPCTDALTCIKADLFCDGEVNCPDGSDEDNKMCATVCDGRFLLTGSSGSFQATHYPKPSETSVVCQWIIRVNQGLSIKLSFDDFNTYYTDILDIYEGVGSSKILRASIWETNPGTIRIFSNQVTATFLIESDESDYVGFNATYTAFNSSELNNYEKINCNFEDGFCFWVQDLNDDNEWERIQGSTFSPFTGPNFDHTFGNASGFYISTPTGPGGRQERVGLLSLPLDPTLEPACLSFWYHMYGENVHKLSINISNDQNMEKTVFQKEGNYGDNWNYGQVTLNETVKFKVAFNAFKNKILSDIALDDISLTYGICNGSLYPEPTLVPTPPPELPTDCGGPFELWEPNTTFSSTNFPNSYPNLAFCVWILNAQKGKNIQLHFQEFDLENINDVVEIRDGEEADSLLLAVYTGPGPVKDVFSTTNRMTVLLITNDVLARGGFKANFTTGYHLGIPEPCKADHFQCKNGECVPLVNLCDGHLHCEDGSDEADCVRFFNGTTNNNGLVRFRIQSIWHTACAENWTTQISNDVCQLLGLGSGNSSKPIFPTDGGPFVKLNTAPDGHLILTPSQQCLQDSLIRLQCNHKSCGKKLAAQDITPKIVGGSNAKEGAWPWVVGLYYGGRLLCGASLVSSDWLVSAAHCVYGRNLEPSKWTAILGLHMKSNLTSPQTVPRLIDEIVINPHYNRRRKDNDIAMMHLEFKVNYTDYIQPICLPEENQVFPPGRNCSIAGWGTVVYQGTTANILQEADVPLLSNERCQQQMPEYNITENMICAGYEEGGIDSCQGDSGGPLMCQENNRWFLAGVTSFGYKCALPNRPGVYARVSRFTEWIQSFLH\n",
      "Inhibitor: Cl.NC(=N)Nc1ccc(cc1)C(=O)Oc1ccc(CC(=O)N[C@@H](CC(O)=O)C(O)=O)cc1\n"
     ]
    }
   ],
   "source": [
    "candidate = _test[67][2]\n",
    "candidate_inhibitor = _test[67][0]\n",
    "\n",
    "print(f'Amino acid sequence: {candidate}')\n",
    "print(f'Inhibitor: {candidate_inhibitor}')"
   ]
  },
  {
   "cell_type": "code",
   "execution_count": 94,
   "id": "16808705",
   "metadata": {},
   "outputs": [
    {
     "name": "stdout",
     "output_type": "stream",
     "text": [
      "[2, 5, 14, 5, 5, 5, 5, 5, 14, 16, 16, 14, 22, 14, 5, 22, 14, 5, 5, 16, 14, 5, 17, 11, 17, 5, 16, 16, 14, 14, 16, 5, 5, 17, 17, 17, 5, 16, 17, 5, 14, 14, 16, 16, 16, 5, 17, 14, 17, 5, 5, 16, 14, 17, 5, 14, 5, 11, 17, 5, 14, 22, 11, 5, 5, 11, 22, 22, 14, 16, 22, 17, 22, 11, 5, 17, 22, 22, 16, 5, 5, 5, 16, 11, 11, 5, 5, 22, 14, 14, 17, 5, 14, 5, 16, 16, 17, 14, 14, 5, 5, 14, 5, 14, 17, 11, 14, 14, 16, 5, 17, 16, 14, 5, 5, 16, 17, 16, 17, 5, 5, 17, 17, 14, 17, 22, 17, 16, 16, 22, 16, 17, 17, 14, 5, 16, 5, 11, 16, 11, 17, 16, 16, 17, 5, 16, 14, 5, 11, 11, 5, 11, 11, 11, 22, 5, 16, 17, 5, 14, 17, 14, 5, 17, 17, 16, 17, 17, 17, 17, 16, 16, 17, 16, 17, 14, 5, 14, 14, 5, 14, 22, 17, 5, 11, 11, 11, 11, 11, 11, 11, 22, 11, 16, 11, 17, 16, 5, 5, 17, 16, 11, 17, 5, 11, 17, 16, 22, 14, 17, 17, 14, 16, 16, 17, 14, 17, 14, 5, 11, 11, 16, 5, 17, 14, 17, 16, 17, 16, 14, 11, 11, 22, 16, 22, 17, 22, 11, 17, 22, 22, 5, 22, 16, 16, 17, 17, 17, 17, 16, 14, 5, 14, 22, 17, 14, 5, 17, 22, 5, 17, 5, 5, 11, 14, 16, 11, 11, 16, 17, 11, 14, 11, 5, 22, 5, 14, 22, 17, 5, 22, 14, 11, 14, 5, 17, 11, 22, 5, 5, 5, 5, 22, 17, 11, 5, 14, 5, 17, 5, 11, 11, 14, 14, 14, 17, 11, 17, 17, 14, 16, 17, 14, 11, 14, 22, 11, 17, 16, 11, 11, 17, 22, 5, 14, 17, 14, 11, 5, 17, 22, 11, 17, 14, 17, 14, 22, 14, 5, 22, 5, 11, 22, 17, 17, 16, 5, 16, 22, 11, 17, 11, 5, 16, 14, 5, 16, 3]\n",
      "tensor([[ 0.0000,  0.0000,  0.0000,  ...,  0.0000,  0.0000,  0.0000],\n",
      "        [-4.9522, -4.4603, -5.3911,  ..., -4.5493, -4.2089, -3.9492],\n",
      "        [-6.0208, -6.2693, -6.3687,  ..., -5.5189, -6.0073, -5.3842],\n",
      "        ...,\n",
      "        [-6.1117, -6.1738, -6.1175,  ..., -5.9666, -6.1318, -5.6771],\n",
      "        [-6.1118, -6.1738, -6.1177,  ..., -5.9667, -6.1319, -5.6771],\n",
      "        [-6.1119, -6.1738, -6.1178,  ..., -5.9668, -6.1321, -5.6771]],\n",
      "       grad_fn=<SqueezeBackward1>)\n"
     ]
    },
    {
     "data": {
      "text/plain": [
       "'CC(C)CCCCCCCCCCCCCCCCCCCCCCCCCCCCCCCCCCCCCCCCCCCCCCCCCCCCCCCCCCCCCCCCCCCCCCCCCCCCCCCCCCCCCCCCCCCCCCCCCCCCCCCCCCCCCCCCCCCCCCCCCCCCCCCCCCCCCCCCCCCCCCCC'"
      ]
     },
     "execution_count": 94,
     "metadata": {},
     "output_type": "execute_result"
    }
   ],
   "source": [
    "generate_inhibitor(candidate)"
   ]
  }
 ],
 "metadata": {
  "kernelspec": {
   "display_name": "Python 3 (ipykernel)",
   "language": "python",
   "name": "python3"
  },
  "language_info": {
   "codemirror_mode": {
    "name": "ipython",
    "version": 3
   },
   "file_extension": ".py",
   "mimetype": "text/x-python",
   "name": "python",
   "nbconvert_exporter": "python",
   "pygments_lexer": "ipython3",
   "version": "3.10.4"
  }
 },
 "nbformat": 4,
 "nbformat_minor": 5
}
